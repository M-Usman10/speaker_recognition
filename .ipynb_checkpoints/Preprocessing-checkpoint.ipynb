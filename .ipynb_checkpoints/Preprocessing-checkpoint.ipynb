{
 "cells": [
  {
   "cell_type": "markdown",
   "metadata": {},
   "source": [
    "This Notebook prepares dataset for training and testing. Feature embeddings are extracted using mfcc cofficients in librosa and then non important features are removed. Then the preprocessed dataset is saved to hard drive."
   ]
  },
  {
   "cell_type": "markdown",
   "metadata": {},
   "source": [
    "### Loading important modules"
   ]
  },
  {
   "cell_type": "code",
   "execution_count": null,
   "metadata": {
    "collapsed": true
   },
   "outputs": [],
   "source": [
    "import librosa\n",
    "import numpy as np\n",
    "import os"
   ]
  },
  {
   "cell_type": "markdown",
   "metadata": {},
   "source": [
    "### Loading and preprocessing dataset"
   ]
  },
  {
   "cell_type": "code",
   "execution_count": null,
   "metadata": {
    "collapsed": true
   },
   "outputs": [],
   "source": [
    "\n",
    "def load_data(main_directory):\n",
    "    l=(os.listdir(main_directory))\n",
    "    Data_frontal=[]\n",
    "    count=0\n",
    "    y=[]\n",
    "    for i in l:\n",
    "        d=main_directory+'\\\\'+i+'\\\\'\n",
    "        L=os.listdir(d)\n",
    "        for j in L[:6]:\n",
    "            k=os.listdir(d+'\\\\'+j)[0]\n",
    "            wave,sr=librosa.load(d+'\\\\'+j+'\\\\'+k, mono=True, sr=None)\n",
    "            wave = wave[::3]\n",
    "            i=librosa.feature.mfcc(wave, sr=16000)\n",
    "            Data_frontal.append(i)\n",
    "            y.append(count)\n",
    "        print (count)\n",
    "        count+=1\n",
    "    shapes=[]\n",
    "    for i in Data_frontal:\n",
    "        shapes.append(i.shape[1])\n",
    "    max_pad_len=np.max(shapes)\n",
    "    Data=[]\n",
    "    for mfcc in Data_frontal:\n",
    "        pad_width = max_pad_len - mfcc.shape[1]\n",
    "        val=np.pad(mfcc, pad_width=((0, 0), (0, pad_width)), mode='constant')\n",
    "        Data.append(val.flatten())\n",
    "    return np.array(Data),np.array(y)\n",
    "X,y=load_data('Data')"
   ]
  },
  {
   "cell_type": "code",
   "execution_count": null,
   "metadata": {
    "collapsed": true
   },
   "outputs": [],
   "source": [
    "X=X[:,np.mean(np.abs(X),axis=0)!=0]\n",
    "np.save('X_Data.npy',X)\n",
    "np.save('Y_Data.npy',y)"
   ]
  },
  {
   "cell_type": "markdown",
   "metadata": {},
   "source": [
    "### Extracting important features"
   ]
  },
  {
   "cell_type": "code",
   "execution_count": 10,
   "metadata": {},
   "outputs": [
    {
     "name": "stdout",
     "output_type": "stream",
     "text": [
      "(708, 231)\n"
     ]
    }
   ],
   "source": [
    "import numpy as np\n",
    "X=np.load('X_Data.npy')\n",
    "y=np.load('Y_Data.npy')\n",
    "from sklearn.preprocessing import PolynomialFeatures\n",
    "from sklearn.decomposition import PCA\n",
    "pca=PCA(n_components=20)\n",
    "X=pca.fit_transform(X)\n",
    "P=PolynomialFeatures(degree=2)\n",
    "X=P.fit_transform(X)\n",
    "print ((X.shape))"
   ]
  },
  {
   "cell_type": "code",
   "execution_count": 11,
   "metadata": {},
   "outputs": [
    {
     "name": "stdout",
     "output_type": "stream",
     "text": [
      "(118, 6, 231) (118, 6)\n"
     ]
    }
   ],
   "source": [
    "#Rearranging the dataset \n",
    "def arrange_data(X,Y):\n",
    "    n_x=[]\n",
    "    n_y=[]\n",
    "    i=0\n",
    "    while i<X.shape[0]:\n",
    "        n_x.append(X[i:i+6])\n",
    "        n_y.append(Y[i:i+6])\n",
    "        i+=6\n",
    "    return np.array(n_x),np.array(n_y)\n",
    "X,y=arrange_data(X,y)\n",
    "print (X.shape,y.shape)"
   ]
  },
  {
   "cell_type": "markdown",
   "metadata": {},
   "source": [
    "### Generating dataset in  the required format"
   ]
  },
  {
   "cell_type": "code",
   "execution_count": 12,
   "metadata": {
    "collapsed": true
   },
   "outputs": [],
   "source": [
    "def generate_data(X,y,no_of_examples):\n",
    "    m=int(np.floor(no_of_examples*0.5))\n",
    "    x_new=[]\n",
    "    y_new=[]\n",
    "    i=0\n",
    "    ind=0\n",
    "    while i<m:\n",
    "        person_images=X[ind]\n",
    "        person_labels=y[ind]\n",
    "        indexes=np.random.randint(0,6,3)\n",
    "        v=person_images[indexes].flatten()\n",
    "        y_new.append(1)\n",
    "        x_new.append(v)\n",
    "        i+=1\n",
    "        ind+=1\n",
    "        ind%=X.shape[0]\n",
    "    m=int(np.floor(no_of_examples*0.25))\n",
    "    i=0\n",
    "    ind=0\n",
    "    while i<m:\n",
    "        person_images=X[ind]\n",
    "        person_labels=y[ind]\n",
    "        indexes=np.random.randint(0,6,2)\n",
    "        v1=person_images[indexes].flatten()\n",
    "        ind_=np.random.randint(0,X.shape[0])\n",
    "        if (ind==ind_):\n",
    "            if (ind!=0):\n",
    "                ind-=1\n",
    "            else:\n",
    "                ind+=1\n",
    "        person_images=X[ind_]\n",
    "        indexes=np.random.randint(0,6,1)\n",
    "        v2=person_images[indexes].flatten()\n",
    "        x_new.append(np.concatenate([v1,v2]))\n",
    "        y_new.append(0)\n",
    "        i+=1\n",
    "        ind+=1\n",
    "        ind%=X.shape[0]\n",
    "    i=0\n",
    "    ind=0\n",
    "    while i<m:\n",
    "        p_indexes=np.random.randint(0,X.shape[0],3)\n",
    "        while(p_indexes[0]==p_indexes[1] or p_indexes[1]==p_indexes[2] or p_indexes[0]==p_indexes[2]):\n",
    "            p_indexes=np.random.randint(0,X.shape[0],3)\n",
    "        p_images=X[p_indexes]\n",
    "        indexes=np.random.randint(0,6,3)\n",
    "        v1=p_images[0,indexes[0]]\n",
    "        v2=p_images[1,indexes[1]]\n",
    "        v3=p_images[2,indexes[2]]\n",
    "        x_new.append(np.concatenate([v1,v2,v3]))\n",
    "        y_new.append(0)\n",
    "        i+=1\n",
    "        ind+=1\n",
    "        ind%=X.shape[0]\n",
    "    return np.array(x_new),np.array(y_new)\n",
    "X,y=generate_data(X,y,10000)"
   ]
  },
  {
   "cell_type": "code",
   "execution_count": 13,
   "metadata": {
    "collapsed": true
   },
   "outputs": [],
   "source": [
    "np.save('final_x.npy',X)\n",
    "np.save('final_y.npy',y)"
   ]
  },
  {
   "cell_type": "code",
   "execution_count": null,
   "metadata": {
    "collapsed": true
   },
   "outputs": [],
   "source": []
  }
 ],
 "metadata": {
  "kernelspec": {
   "display_name": "Python 2",
   "language": "python",
   "name": "python2"
  },
  "language_info": {
   "codemirror_mode": {
    "name": "ipython",
    "version": 2
   },
   "file_extension": ".py",
   "mimetype": "text/x-python",
   "name": "python",
   "nbconvert_exporter": "python",
   "pygments_lexer": "ipython2",
   "version": "2.7.13"
  }
 },
 "nbformat": 4,
 "nbformat_minor": 2
}
